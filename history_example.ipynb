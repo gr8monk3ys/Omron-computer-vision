{
 "cells": [
  {
   "cell_type": "code",
   "execution_count": null,
   "id": "16426ea1",
   "metadata": {},
   "outputs": [],
   "source": [
    "from History import History\n",
    "import pandas as pd\n",
    "import numpy as np\n",
    "import matplotlib.pyplot as plt"
   ]
  },
  {
   "cell_type": "code",
   "execution_count": null,
   "id": "67f42d62",
   "metadata": {},
   "outputs": [],
   "source": [
    "a = History()"
   ]
  },
  {
   "cell_type": "code",
   "execution_count": null,
   "id": "f9c40437",
   "metadata": {},
   "outputs": [],
   "source": [
    "a.history.index"
   ]
  },
  {
   "cell_type": "code",
   "execution_count": null,
   "id": "fd353bde",
   "metadata": {},
   "outputs": [],
   "source": [
    "a.history"
   ]
  },
  {
   "cell_type": "code",
   "execution_count": null,
   "id": "776b2546",
   "metadata": {},
   "outputs": [],
   "source": [
    "im = np.zeros((10,10))"
   ]
  },
  {
   "cell_type": "code",
   "execution_count": null,
   "id": "87996588",
   "metadata": {},
   "outputs": [],
   "source": [
    "for i in range(3):\n",
    "    a.addPart(0,i,im)\n",
    "    a.addPart(1,i,im)"
   ]
  },
  {
   "cell_type": "code",
   "execution_count": null,
   "id": "4cabf623",
   "metadata": {},
   "outputs": [],
   "source": [
    "a.history"
   ]
  },
  {
   "cell_type": "code",
   "execution_count": null,
   "id": "89850b07",
   "metadata": {},
   "outputs": [],
   "source": [
    "a.removePart(0,0)"
   ]
  },
  {
   "cell_type": "code",
   "execution_count": null,
   "id": "2a39a202",
   "metadata": {
    "scrolled": true
   },
   "outputs": [],
   "source": [
    "a.history"
   ]
  },
  {
   "cell_type": "code",
   "execution_count": null,
   "id": "8681ab5e",
   "metadata": {},
   "outputs": [],
   "source": [
    "a.classifyPart(1,0,1,3)"
   ]
  },
  {
   "cell_type": "code",
   "execution_count": null,
   "id": "aa8a7327",
   "metadata": {},
   "outputs": [],
   "source": [
    "a.history"
   ]
  },
  {
   "cell_type": "code",
   "execution_count": null,
   "id": "643231e2",
   "metadata": {},
   "outputs": [],
   "source": [
    "a.addPart(1,0,im)\n",
    "a.classifyPart(1,0,3,4)"
   ]
  },
  {
   "cell_type": "code",
   "execution_count": null,
   "id": "c31bff8a",
   "metadata": {},
   "outputs": [],
   "source": [
    "a.history"
   ]
  },
  {
   "cell_type": "code",
   "execution_count": null,
   "id": "14348bf3",
   "metadata": {},
   "outputs": [],
   "source": [
    "plt.imshow(a.history['image'][0])"
   ]
  },
  {
   "cell_type": "code",
   "execution_count": null,
   "id": "c9ec8853",
   "metadata": {},
   "outputs": [],
   "source": [
    "a.saveHistory('hist')"
   ]
  },
  {
   "cell_type": "code",
   "execution_count": null,
   "id": "9402f90e",
   "metadata": {},
   "outputs": [],
   "source": [
    "b = History()"
   ]
  },
  {
   "cell_type": "code",
   "execution_count": null,
   "id": "e323157f",
   "metadata": {},
   "outputs": [],
   "source": [
    "b.loadHistory('hist')"
   ]
  },
  {
   "cell_type": "code",
   "execution_count": null,
   "id": "1e48a953",
   "metadata": {},
   "outputs": [],
   "source": [
    "b.history"
   ]
  },
  {
   "cell_type": "code",
   "execution_count": null,
   "id": "59b4b192",
   "metadata": {},
   "outputs": [],
   "source": [
    "a.saveCSV('csvtest')"
   ]
  },
  {
   "cell_type": "code",
   "execution_count": null,
   "id": "190f427c",
   "metadata": {},
   "outputs": [],
   "source": [
    "b = a.history"
   ]
  },
  {
   "cell_type": "code",
   "execution_count": null,
   "id": "13989661",
   "metadata": {},
   "outputs": [],
   "source": [
    "b.loc[(b.partid==1) & (b.orientation==0),'classification'] = 1"
   ]
  },
  {
   "cell_type": "code",
   "execution_count": null,
   "id": "8f046cf8",
   "metadata": {
    "scrolled": true
   },
   "outputs": [],
   "source": [
    "a.history"
   ]
  },
  {
   "cell_type": "code",
   "execution_count": null,
   "id": "e221cd3e",
   "metadata": {},
   "outputs": [],
   "source": [
    "from Pipeline import Pipeline\n",
    "clf = Pipeline()"
   ]
  },
  {
   "cell_type": "code",
   "execution_count": null,
   "id": "536c8b4d",
   "metadata": {},
   "outputs": [],
   "source": [
    "clf.classify([b[(b.partid==0) & (b.orientation==1)]['image'].iloc[0]])"
   ]
  },
  {
   "cell_type": "code",
   "execution_count": null,
   "id": "ea93e49c",
   "metadata": {},
   "outputs": [],
   "source": [
    "a.getImage(0,1).shape"
   ]
  },
  {
   "cell_type": "markdown",
   "id": "ca3f225a",
   "metadata": {},
   "source": [
    "## API"
   ]
  },
  {
   "cell_type": "code",
   "execution_count": null,
   "id": "c2a86da8",
   "metadata": {},
   "outputs": [],
   "source": [
    "from API import Interface"
   ]
  },
  {
   "cell_type": "code",
   "execution_count": null,
   "id": "d8ba6bed",
   "metadata": {},
   "outputs": [],
   "source": [
    "a = Interface()"
   ]
  },
  {
   "cell_type": "code",
   "execution_count": null,
   "id": "55bad1d7",
   "metadata": {},
   "outputs": [],
   "source": [
    "a.takePicture(\"aaa\",\"front\")"
   ]
  },
  {
   "cell_type": "code",
   "execution_count": null,
   "id": "895332c5",
   "metadata": {},
   "outputs": [],
   "source": [
    "a.hist.history"
   ]
  },
  {
   "cell_type": "markdown",
   "id": "8e09aac3",
   "metadata": {},
   "source": [
    "## UI"
   ]
  },
  {
   "cell_type": "code",
   "execution_count": null,
   "id": "3aa11b52",
   "metadata": {},
   "outputs": [],
   "source": [
    "from UI import Display"
   ]
  },
  {
   "cell_type": "code",
   "execution_count": null,
   "id": "989a1ff6",
   "metadata": {},
   "outputs": [],
   "source": [
    "a = Display()"
   ]
  },
  {
   "cell_type": "code",
   "execution_count": null,
   "id": "74342c74",
   "metadata": {},
   "outputs": [],
   "source": []
  }
 ],
 "metadata": {
  "kernelspec": {
   "display_name": "Python 3 (ipykernel)",
   "language": "python",
   "name": "python3"
  },
  "language_info": {
   "codemirror_mode": {
    "name": "ipython",
    "version": 3
   },
   "file_extension": ".py",
   "mimetype": "text/x-python",
   "name": "python",
   "nbconvert_exporter": "python",
   "pygments_lexer": "ipython3",
   "version": "3.9.10"
  }
 },
 "nbformat": 4,
 "nbformat_minor": 5
}
