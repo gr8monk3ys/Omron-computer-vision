{
 "cells": [
  {
   "cell_type": "markdown",
   "id": "41eb1047",
   "metadata": {},
   "source": [
    "# SVM Model Testing"
   ]
  },
  {
   "cell_type": "code",
   "execution_count": 1,
   "id": "206dfe3c",
   "metadata": {},
   "outputs": [],
   "source": [
    "from PIL import Image, ImageOps\n",
    "import glob\n",
    "import numpy as np\n",
    "import matplotlib.pyplot as plt\n",
    "import seaborn as sns\n",
    "import cv2 as cv\n",
    "import pandas as pd\n",
    "import os\n",
    "\n",
    "from numpy.random import default_rng\n",
    "rng = default_rng()"
   ]
  },
  {
   "cell_type": "markdown",
   "id": "5e20f198",
   "metadata": {},
   "source": [
    "### Import dataset"
   ]
  },
  {
   "cell_type": "code",
   "execution_count": 2,
   "id": "8a2f4c6f",
   "metadata": {},
   "outputs": [
    {
     "ename": "KeyboardInterrupt",
     "evalue": "",
     "output_type": "error",
     "traceback": [
      "\u001b[0;31m---------------------------------------------------------------------------\u001b[0m",
      "\u001b[0;31mKeyboardInterrupt\u001b[0m                         Traceback (most recent call last)",
      "\u001b[0;32m/tmp/ipykernel_9258/2516676145.py\u001b[0m in \u001b[0;36m<module>\u001b[0;34m\u001b[0m\n\u001b[1;32m      3\u001b[0m \u001b[0mreshp\u001b[0m \u001b[0;34m=\u001b[0m \u001b[0;32mlambda\u001b[0m \u001b[0mimage\u001b[0m \u001b[0;34m:\u001b[0m \u001b[0mcv\u001b[0m\u001b[0;34m.\u001b[0m\u001b[0mresize\u001b[0m\u001b[0;34m(\u001b[0m\u001b[0mimage\u001b[0m\u001b[0;34m,\u001b[0m\u001b[0;34m(\u001b[0m\u001b[0;36m250\u001b[0m\u001b[0;34m,\u001b[0m\u001b[0;36m250\u001b[0m\u001b[0;34m)\u001b[0m\u001b[0;34m)\u001b[0m\u001b[0;34m\u001b[0m\u001b[0;34m\u001b[0m\u001b[0m\n\u001b[1;32m      4\u001b[0m \u001b[0;32mfor\u001b[0m \u001b[0mf\u001b[0m \u001b[0;32min\u001b[0m \u001b[0mglob\u001b[0m\u001b[0;34m.\u001b[0m\u001b[0miglob\u001b[0m\u001b[0;34m(\u001b[0m\u001b[0;34m\"/home/dmarq/school/CSE120/dataset/flat/good/*\"\u001b[0m\u001b[0;34m)\u001b[0m\u001b[0;34m:\u001b[0m\u001b[0;34m\u001b[0m\u001b[0;34m\u001b[0m\u001b[0m\n\u001b[0;32m----> 5\u001b[0;31m     \u001b[0mim\u001b[0m \u001b[0;34m=\u001b[0m \u001b[0mnp\u001b[0m\u001b[0;34m.\u001b[0m\u001b[0masarray\u001b[0m\u001b[0;34m(\u001b[0m\u001b[0mImageOps\u001b[0m\u001b[0;34m.\u001b[0m\u001b[0mgrayscale\u001b[0m\u001b[0;34m(\u001b[0m\u001b[0mImage\u001b[0m\u001b[0;34m.\u001b[0m\u001b[0mopen\u001b[0m\u001b[0;34m(\u001b[0m\u001b[0mf\u001b[0m\u001b[0;34m)\u001b[0m\u001b[0;34m)\u001b[0m\u001b[0;34m)\u001b[0m\u001b[0;34m\u001b[0m\u001b[0;34m\u001b[0m\u001b[0m\n\u001b[0m\u001b[1;32m      6\u001b[0m \u001b[0;31m#     for _ in range(20):\u001b[0m\u001b[0;34m\u001b[0m\u001b[0;34m\u001b[0m\u001b[0m\n\u001b[1;32m      7\u001b[0m \u001b[0;31m#         M = np.float32([[1, 0, rng.standard_normal(1)[0]*400],\u001b[0m\u001b[0;34m\u001b[0m\u001b[0;34m\u001b[0m\u001b[0m\n",
      "\u001b[0;32m~/tools/miniconda3/lib/python3.9/site-packages/PIL/ImageOps.py\u001b[0m in \u001b[0;36mgrayscale\u001b[0;34m(image)\u001b[0m\n\u001b[1;32m    511\u001b[0m     \u001b[0;34m:\u001b[0m\u001b[0;32mreturn\u001b[0m\u001b[0;34m:\u001b[0m \u001b[0mAn\u001b[0m \u001b[0mimage\u001b[0m\u001b[0;34m.\u001b[0m\u001b[0;34m\u001b[0m\u001b[0;34m\u001b[0m\u001b[0m\n\u001b[1;32m    512\u001b[0m     \"\"\"\n\u001b[0;32m--> 513\u001b[0;31m     \u001b[0;32mreturn\u001b[0m \u001b[0mimage\u001b[0m\u001b[0;34m.\u001b[0m\u001b[0mconvert\u001b[0m\u001b[0;34m(\u001b[0m\u001b[0;34m\"L\"\u001b[0m\u001b[0;34m)\u001b[0m\u001b[0;34m\u001b[0m\u001b[0;34m\u001b[0m\u001b[0m\n\u001b[0m\u001b[1;32m    514\u001b[0m \u001b[0;34m\u001b[0m\u001b[0m\n\u001b[1;32m    515\u001b[0m \u001b[0;34m\u001b[0m\u001b[0m\n",
      "\u001b[0;32m~/tools/miniconda3/lib/python3.9/site-packages/PIL/Image.py\u001b[0m in \u001b[0;36mconvert\u001b[0;34m(self, mode, matrix, dither, palette, colors)\u001b[0m\n\u001b[1;32m    887\u001b[0m         \"\"\"\n\u001b[1;32m    888\u001b[0m \u001b[0;34m\u001b[0m\u001b[0m\n\u001b[0;32m--> 889\u001b[0;31m         \u001b[0mself\u001b[0m\u001b[0;34m.\u001b[0m\u001b[0mload\u001b[0m\u001b[0;34m(\u001b[0m\u001b[0;34m)\u001b[0m\u001b[0;34m\u001b[0m\u001b[0;34m\u001b[0m\u001b[0m\n\u001b[0m\u001b[1;32m    890\u001b[0m \u001b[0;34m\u001b[0m\u001b[0m\n\u001b[1;32m    891\u001b[0m         \u001b[0mhas_transparency\u001b[0m \u001b[0;34m=\u001b[0m \u001b[0mself\u001b[0m\u001b[0;34m.\u001b[0m\u001b[0minfo\u001b[0m\u001b[0;34m.\u001b[0m\u001b[0mget\u001b[0m\u001b[0;34m(\u001b[0m\u001b[0;34m\"transparency\"\u001b[0m\u001b[0;34m)\u001b[0m \u001b[0;32mis\u001b[0m \u001b[0;32mnot\u001b[0m \u001b[0;32mNone\u001b[0m\u001b[0;34m\u001b[0m\u001b[0;34m\u001b[0m\u001b[0m\n",
      "\u001b[0;32m~/tools/miniconda3/lib/python3.9/site-packages/PIL/ImageFile.py\u001b[0m in \u001b[0;36mload\u001b[0;34m(self)\u001b[0m\n\u001b[1;32m    251\u001b[0m \u001b[0;34m\u001b[0m\u001b[0m\n\u001b[1;32m    252\u001b[0m                             \u001b[0mb\u001b[0m \u001b[0;34m=\u001b[0m \u001b[0mb\u001b[0m \u001b[0;34m+\u001b[0m \u001b[0ms\u001b[0m\u001b[0;34m\u001b[0m\u001b[0;34m\u001b[0m\u001b[0m\n\u001b[0;32m--> 253\u001b[0;31m                             \u001b[0mn\u001b[0m\u001b[0;34m,\u001b[0m \u001b[0merr_code\u001b[0m \u001b[0;34m=\u001b[0m \u001b[0mdecoder\u001b[0m\u001b[0;34m.\u001b[0m\u001b[0mdecode\u001b[0m\u001b[0;34m(\u001b[0m\u001b[0mb\u001b[0m\u001b[0;34m)\u001b[0m\u001b[0;34m\u001b[0m\u001b[0;34m\u001b[0m\u001b[0m\n\u001b[0m\u001b[1;32m    254\u001b[0m                             \u001b[0;32mif\u001b[0m \u001b[0mn\u001b[0m \u001b[0;34m<\u001b[0m \u001b[0;36m0\u001b[0m\u001b[0;34m:\u001b[0m\u001b[0;34m\u001b[0m\u001b[0;34m\u001b[0m\u001b[0m\n\u001b[1;32m    255\u001b[0m                                 \u001b[0;32mbreak\u001b[0m\u001b[0;34m\u001b[0m\u001b[0;34m\u001b[0m\u001b[0m\n",
      "\u001b[0;31mKeyboardInterrupt\u001b[0m: "
     ]
    }
   ],
   "source": [
    "images = []\n",
    "labels = []\n",
    "reshp = lambda image : cv.resize(image,(250,250))\n",
    "for f in glob.iglob(\"/home/dmarq/school/CSE120/dataset/flat/good/*\"):\n",
    "    im = np.asarray(ImageOps.grayscale(Image.open(f)))\n",
    "#     for _ in range(20):\n",
    "#         M = np.float32([[1, 0, rng.standard_normal(1)[0]*400],\n",
    "#                     [0, 1, rng.standard_normal(1)[0]*400]])\n",
    "#         (h, w) = im.shape[:2]\n",
    "#         shifted = cv.warpAffine(im, M, (w, h))\n",
    "    im = reshp(im)\n",
    "    images.append(im)\n",
    "    labels.append(1)\n",
    "        \n",
    "for f in glob.iglob(\"/home/dmarq/school/CSE120/dataset/flat/bad/*\"):\n",
    "    im = np.asarray(ImageOps.grayscale(Image.open(f)))\n",
    "#     for _ in range(20):\n",
    "#         M = np.float32([[1, 0, rng.standard_normal(1)[0]*400],\n",
    "#                     [0, 1, rng.standard_normal(1)[0]*400]])\n",
    "#         (h, w) = im.shape[:2]\n",
    "#         shifted = cv.warpAffine(im, M, (w, h))\n",
    "    im = reshp(im)\n",
    "    images.append(im)\n",
    "    labels.append(0)\n",
    "    \n",
    "images = np.array(images)\n",
    "labels = np.array(labels)"
   ]
  },
  {
   "cell_type": "code",
   "execution_count": null,
   "id": "485caa86",
   "metadata": {},
   "outputs": [],
   "source": [
    "print(\"{} images\".format(len(images)))\n",
    "print(\"Image shape {}\".format(images.shape))"
   ]
  },
  {
   "cell_type": "markdown",
   "id": "5ad8b7e8",
   "metadata": {},
   "source": [
    "### Example Good and Bad Part"
   ]
  },
  {
   "cell_type": "code",
   "execution_count": null,
   "id": "d0d55c79",
   "metadata": {},
   "outputs": [],
   "source": [
    "num = 0\n",
    "plt.imshow(images[num],cmap='gray')\n",
    "print(\"class {}\".format(labels[num]))"
   ]
  },
  {
   "cell_type": "code",
   "execution_count": null,
   "id": "63910344",
   "metadata": {},
   "outputs": [],
   "source": [
    "num = 6\n",
    "plt.imshow(images[num],cmap='gray')\n",
    "print(\"class {}\".format(labels[num]))"
   ]
  },
  {
   "cell_type": "markdown",
   "id": "77d865cc",
   "metadata": {},
   "source": [
    "## import model libraries"
   ]
  },
  {
   "cell_type": "code",
   "execution_count": null,
   "id": "1930b5e1",
   "metadata": {},
   "outputs": [],
   "source": [
    "from sklearn.decomposition import PCA\n",
    "from sklearn.preprocessing import StandardScaler\n",
    "from sklearn.svm import SVC\n",
    "from sklearn.pipeline import Pipeline\n",
    "import pickle"
   ]
  },
  {
   "cell_type": "markdown",
   "id": "26e526c7",
   "metadata": {},
   "source": [
    "### training and testing split"
   ]
  },
  {
   "cell_type": "code",
   "execution_count": null,
   "id": "8f5abce9",
   "metadata": {},
   "outputs": [],
   "source": [
    "from sklearn.model_selection import train_test_split\n",
    "X_train, X_test, y_train, y_test = train_test_split(images, labels, test_size=0.45)\n",
    "print(\"Train shape {}\".format(X_train.shape))\n",
    "print(\"Test shape {}\".format(X_test.shape))"
   ]
  },
  {
   "cell_type": "markdown",
   "id": "6bac296a",
   "metadata": {},
   "source": [
    "### data pipeline"
   ]
  },
  {
   "cell_type": "code",
   "execution_count": null,
   "id": "6b170dc3",
   "metadata": {},
   "outputs": [],
   "source": [
    "flatten = lambda batch : batch.reshape(batch.shape[0],-1)"
   ]
  },
  {
   "cell_type": "code",
   "execution_count": null,
   "id": "f8d196b2",
   "metadata": {},
   "outputs": [],
   "source": [
    "pipe = Pipeline([('scaler', StandardScaler()),('pca', PCA(n_components=40,svd_solver=\"full\")), ('svc', SVC())])"
   ]
  },
  {
   "cell_type": "code",
   "execution_count": null,
   "id": "338af73a",
   "metadata": {},
   "outputs": [],
   "source": [
    "pipe.fit(flatten(X_train),y_train)"
   ]
  },
  {
   "cell_type": "code",
   "execution_count": null,
   "id": "e35f0f91",
   "metadata": {},
   "outputs": [],
   "source": [
    "# load pipeline\n",
    "with open('../model.pkl','rb') as file:\n",
    "    pipe = pickle.load(file)"
   ]
  },
  {
   "cell_type": "code",
   "execution_count": null,
   "id": "5c39f71b",
   "metadata": {},
   "outputs": [],
   "source": [
    "# save pipeline\n",
    "#with open('../model.pkl','wb') as file:\n",
    "#    pickle.dump(pipe,file)"
   ]
  },
  {
   "cell_type": "code",
   "execution_count": null,
   "id": "a44b76ab",
   "metadata": {},
   "outputs": [],
   "source": [
    "# training set\n",
    "pipe.score(flatten(X_train),y_train)"
   ]
  },
  {
   "cell_type": "code",
   "execution_count": null,
   "id": "37f0b86e",
   "metadata": {},
   "outputs": [],
   "source": [
    "# testing set\n",
    "pipe.score(flatten(X_test),y_test)"
   ]
  },
  {
   "cell_type": "code",
   "execution_count": null,
   "id": "cd84a6ff",
   "metadata": {},
   "outputs": [],
   "source": [
    "conf = np.zeros((2,2))\n",
    "for i,im in enumerate(X_test):\n",
    "    conf[y_test[i],pipe.predict([X_test[i].reshape(-1)])[0]] += 1\n",
    "sns.heatmap(conf, annot=True, fmt=\"\", cbar=False, square=True)\n",
    "plt.ylabel('truth')\n",
    "plt.xlabel('prediction')"
   ]
  },
  {
   "cell_type": "code",
   "execution_count": null,
   "id": "b277c5b7",
   "metadata": {},
   "outputs": [],
   "source": [
    "count = 0\n",
    "for i, v in enumerate(pipe.predict(X_test.reshape(X_test.shape[0],-1))==y_test):\n",
    "    if v==False and count < 5:\n",
    "        count += 1\n",
    "        plt.imshow(images[i],cmap='gray')\n",
    "        plt.title(\"truth {} prediction {}\".format(y_test[i],pipe.predict([X_test[i].reshape(-1)])[0]))\n",
    "        plt.show()"
   ]
  },
  {
   "cell_type": "markdown",
   "id": "1816c610",
   "metadata": {},
   "source": [
    "### inverse transform visualization"
   ]
  },
  {
   "cell_type": "code",
   "execution_count": null,
   "id": "ca7b080b",
   "metadata": {},
   "outputs": [],
   "source": [
    "test1 = X_train[0:1]\n",
    "test2 = pipe[0].inverse_transform(pipe[1].inverse_transform(pipe[1].transform(pipe[0].transform(X_train[0:1].reshape(1,-1))))).reshape(1,250,250)"
   ]
  },
  {
   "cell_type": "code",
   "execution_count": null,
   "id": "c4991235",
   "metadata": {},
   "outputs": [],
   "source": [
    "plt.imshow(test1[0],cmap='gray')\n",
    "plt.title('original')\n",
    "plt.show()\n",
    "plt.imshow(test2[0],cmap='gray')\n",
    "plt.title('inverse transform')\n",
    "plt.show()"
   ]
  },
  {
   "cell_type": "markdown",
   "id": "8c4358b6",
   "metadata": {},
   "source": [
    "### Accuracy vs. Number of Principal Components"
   ]
  },
  {
   "cell_type": "code",
   "execution_count": null,
   "id": "e97e21ea",
   "metadata": {},
   "outputs": [],
   "source": [
    "for i in range(10,101,10):\n",
    "    p = Pipeline([('scaler', StandardScaler()),('pca', PCA(n_components=i,svd_solver=\"full\")), ('svc', SVC())])\n",
    "    p.fit(X_train.reshape(X_train.shape[0],-1),y_train)\n",
    "    plt.scatter(x=p[1].components_.shape[0],y=p.score(X_test.reshape(X_test.shape[0],-1),y_test),color='blue')\n",
    "plt.xlabel('number of principal components')\n",
    "plt.ylabel('accuracy')\n",
    "plt.show()"
   ]
  },
  {
   "cell_type": "code",
   "execution_count": null,
   "id": "aedcf85b",
   "metadata": {},
   "outputs": [],
   "source": [
    "# example of pipeline useage for API"
   ]
  },
  {
   "cell_type": "code",
   "execution_count": null,
   "id": "2d30b650",
   "metadata": {},
   "outputs": [],
   "source": [
    "import Pipeline as p"
   ]
  },
  {
   "cell_type": "code",
   "execution_count": null,
   "id": "acee7751",
   "metadata": {},
   "outputs": [],
   "source": [
    "clf = p.Pipeline()"
   ]
  },
  {
   "cell_type": "code",
   "execution_count": null,
   "id": "4abf9ff6",
   "metadata": {},
   "outputs": [],
   "source": [
    "clf.classify(X_train[0:1])"
   ]
  },
  {
   "cell_type": "markdown",
   "id": "a498d86d",
   "metadata": {},
   "source": [
    "# OpenCV model"
   ]
  },
  {
   "cell_type": "code",
   "execution_count": 2,
   "id": "d6aeff8e",
   "metadata": {},
   "outputs": [],
   "source": [
    "reshp = lambda image : cv.resize(image,(250,250))\n",
    "images = {\"top\":[],\"right\":[],\"left\":[],\"front\":[],\"back\":[]}\n",
    "for key in images:\n",
    "    for f in glob.iglob(\"../dataset/reference/bad/{}/*\".format(key)):\n",
    "        im = np.asarray(ImageOps.grayscale(Image.open(f)))\n",
    "        im = reshp(im)\n",
    "        images[key].append(im)"
   ]
  },
  {
   "cell_type": "code",
   "execution_count": 3,
   "id": "856dcd65",
   "metadata": {},
   "outputs": [
    {
     "data": {
      "text/plain": [
       "<matplotlib.image.AxesImage at 0x7f3e647f6220>"
      ]
     },
     "execution_count": 3,
     "metadata": {},
     "output_type": "execute_result"
    },
    {
     "data": {
      "image/png": "[encoded data removed]",
      "text/plain": [
       "<Figure size 432x288 with 1 Axes>"
      ]
     },
     "metadata": {
      "needs_background": "light"
     },
     "output_type": "display_data"
    }
   ],
   "source": [
    "plt.imshow(images['left'][0],cmap='gray')"
   ]
  },
  {
   "cell_type": "code",
   "execution_count": 4,
   "id": "a567e9d7",
   "metadata": {},
   "outputs": [],
   "source": [
    "from HamPipeline import Pipeline"
   ]
  },
  {
   "cell_type": "code",
   "execution_count": 5,
   "id": "295cbd0b",
   "metadata": {},
   "outputs": [],
   "source": [
    "a = Pipeline()"
   ]
  },
  {
   "cell_type": "code",
   "execution_count": 6,
   "id": "9dd1f0ad",
   "metadata": {},
   "outputs": [
    {
     "data": {
      "text/plain": [
       "(21.535999999999998, 6.9839528964073505)"
      ]
     },
     "execution_count": 6,
     "metadata": {},
     "output_type": "execute_result"
    }
   ],
   "source": [
    "a.get_thresh(\"left\")"
   ]
  },
  {
   "cell_type": "markdown",
   "id": "4c1c1154",
   "metadata": {},
   "source": [
    "## Performance on Bad Parts"
   ]
  },
  {
   "cell_type": "code",
   "execution_count": 7,
   "id": "40ace9c8",
   "metadata": {},
   "outputs": [
    {
     "data": {
      "text/plain": [
       "[0, 1, 0, 0, 0, 0, 0, 0, 0, 0, 0, 0, 0, 0, 0, 0, 0, 0, 0, 0]"
      ]
     },
     "execution_count": 7,
     "metadata": {},
     "output_type": "execute_result"
    }
   ],
   "source": [
    "a.classify(images['left'],\"left\")"
   ]
  },
  {
   "cell_type": "code",
   "execution_count": 8,
   "id": "c7220588",
   "metadata": {
    "scrolled": true
   },
   "outputs": [
    {
     "data": {
      "text/plain": [
       "[0,\n",
       " 0,\n",
       " 0,\n",
       " 0,\n",
       " 0,\n",
       " 0,\n",
       " 0,\n",
       " 0,\n",
       " 0,\n",
       " 0,\n",
       " 0,\n",
       " 0,\n",
       " 0,\n",
       " 0,\n",
       " 0,\n",
       " 0,\n",
       " 0,\n",
       " 0,\n",
       " 0,\n",
       " 0,\n",
       " 0,\n",
       " 0,\n",
       " 0,\n",
       " 0,\n",
       " 0,\n",
       " 0,\n",
       " 0,\n",
       " 0,\n",
       " 0,\n",
       " 0,\n",
       " 0,\n",
       " 0,\n",
       " 0,\n",
       " 0,\n",
       " 0,\n",
       " 0,\n",
       " 0,\n",
       " 0,\n",
       " 0,\n",
       " 0,\n",
       " 0,\n",
       " 0,\n",
       " 0,\n",
       " 0,\n",
       " 0,\n",
       " 0,\n",
       " 0,\n",
       " 0,\n",
       " 0,\n",
       " 0]"
      ]
     },
     "execution_count": 8,
     "metadata": {},
     "output_type": "execute_result"
    }
   ],
   "source": [
    "a.classify(images['back'],\"back\")"
   ]
  },
  {
   "cell_type": "code",
   "execution_count": 9,
   "id": "4eba1d73",
   "metadata": {},
   "outputs": [
    {
     "data": {
      "text/plain": [
       "[0, 0, 0, 0, 0, 0, 0, 0, 0, 0, 0, 0, 0, 0, 0, 0, 0, 0, 1, 0]"
      ]
     },
     "execution_count": 9,
     "metadata": {},
     "output_type": "execute_result"
    }
   ],
   "source": [
    "a.classify(images['front'],\"front\")"
   ]
  },
  {
   "cell_type": "markdown",
   "id": "b30eb371",
   "metadata": {},
   "source": [
    "## Performance on Good Parts"
   ]
  },
  {
   "cell_type": "code",
   "execution_count": 10,
   "id": "02686109",
   "metadata": {},
   "outputs": [
    {
     "data": {
      "text/plain": [
       "[1, 1, 1, 1, 1, 1, 1, 1, 1, 1, 1, 1, 1, 1, 1, 1, 1, 1, 1, 1]"
      ]
     },
     "execution_count": 10,
     "metadata": {},
     "output_type": "execute_result"
    }
   ],
   "source": [
    "a.classify(a.get_ref('left'),\"left\")"
   ]
  },
  {
   "cell_type": "code",
   "execution_count": 11,
   "id": "7d9a8211",
   "metadata": {},
   "outputs": [
    {
     "data": {
      "text/plain": [
       "[1, 1, 1, 1, 1, 1, 1, 1, 1, 1, 1, 1, 1, 1, 1, 1, 1, 1, 1, 1]"
      ]
     },
     "execution_count": 11,
     "metadata": {},
     "output_type": "execute_result"
    }
   ],
   "source": [
    "a.classify(a.get_ref('back'),\"back\")"
   ]
  },
  {
   "cell_type": "code",
   "execution_count": 12,
   "id": "42dbdb72",
   "metadata": {},
   "outputs": [
    {
     "data": {
      "text/plain": [
       "[1, 1, 1, 1, 1, 1, 1, 1, 1, 1, 1, 1, 1, 1, 1, 1, 1, 1, 1, 1]"
      ]
     },
     "execution_count": 12,
     "metadata": {},
     "output_type": "execute_result"
    }
   ],
   "source": [
    "a.classify(a.get_ref('front'),\"front\")"
   ]
  },
  {
   "cell_type": "markdown",
   "id": "308af8f6",
   "metadata": {},
   "source": [
    "## Threshold Testing"
   ]
  },
  {
   "cell_type": "code",
   "execution_count": null,
   "id": "94f5cc25",
   "metadata": {},
   "outputs": [],
   "source": [
    "a.thresholds['left']"
   ]
  },
  {
   "cell_type": "code",
   "execution_count": null,
   "id": "9e2ffc9b",
   "metadata": {},
   "outputs": [],
   "source": [
    "[a.score(im,\"left\") for im in np.array(images['left'])]"
   ]
  },
  {
   "cell_type": "code",
   "execution_count": null,
   "id": "7a5943cc",
   "metadata": {},
   "outputs": [],
   "source": []
  }
 ],
 "metadata": {
  "kernelspec": {
   "display_name": "Python 3 (ipykernel)",
   "language": "python",
   "name": "python3"
  },
  "language_info": {
   "codemirror_mode": {
    "name": "ipython",
    "version": 3
   },
   "file_extension": ".py",
   "mimetype": "text/x-python",
   "name": "python",
   "nbconvert_exporter": "python",
   "pygments_lexer": "ipython3",
   "version": "3.9.10"
  }
 },
 "nbformat": 4,
 "nbformat_minor": 5
}
